{
 "cells": [
  {
   "cell_type": "code",
   "execution_count": null,
   "metadata": {},
   "outputs": [],
   "source": [
    "int[] arr = { 800, 11, 50, 771, 649, 770, 240, 9 };\n",
    "\n",
    "int temp = 0;\n",
    "\n",
    "for (int write = 0; write < arr.Length; write++) {\n",
    "    for (int sort = 0; sort < arr.Length - 1; sort++) {\n",
    "        if (arr[sort] > arr[sort + 1]) {\n",
    "            temp = arr[sort + 1];\n",
    "            arr[sort + 1] = arr[sort];\n",
    "            arr[sort] = temp;\n",
    "        }\n",
    "    }\n",
    "}\n",
    "\n",
    "for (int i = 0; i < arr.Length; i++)\n",
    "    Console.Write(arr[i] + \" \");"
   ]
  },
  {
   "cell_type": "code",
   "execution_count": 10,
   "metadata": {},
   "outputs": [],
   "source": [
    "static void countSwaps(int[] a)\n",
    "{\n",
    "    int n = a.Length;\n",
    "    int temp = 0;\n",
    "    int count = 0;\n",
    "    int first = 0;\n",
    "    int last = 0;\n",
    "    \n",
    "    for (int i = 0; i < n; i++)\n",
    "    {\n",
    "        for (int j = 0; j < n - 1; j++)\n",
    "        {\n",
    "            // Swap adjacent elements if they are in decreasing order\n",
    "            if (a[j] > a[j + 1])\n",
    "            {\n",
    "                //swap(a[j], a[j + 1]);\n",
    "                temp = a[j + 1];\n",
    "                a[j + 1] = a[j];\n",
    "                a[j] = temp;\n",
    "                count++;\n",
    "            }\n",
    "        }\n",
    "    }\n",
    "    \n",
    "    for(int i = 0; i < n; i++)\n",
    "    {\n",
    "        if(i==0)\n",
    "            first = a[i];\n",
    "        \n",
    "        last = a[i];\n",
    "    }\n",
    "\n",
    "    Console.WriteLine(\"Array is sorted in {0} swaps.\",count.ToString());\n",
    "    Console.WriteLine(\"First Element: {0}\",first.ToString());\n",
    "    Console.WriteLine(\"Last Element: {0}\", last.ToString());\n",
    "}"
   ]
  },
  {
   "cell_type": "code",
   "execution_count": 11,
   "metadata": {},
   "outputs": [
    {
     "name": "stdout",
     "output_type": "stream",
     "text": [
      "Array is sorted in 3 swaps.\n",
      "First Element: 1\n",
      "Last Element: 3\n"
     ]
    }
   ],
   "source": [
    "countSwaps((new int[] { 3, 2, 1 }));"
   ]
  },
  {
   "cell_type": "code",
   "execution_count": null,
   "metadata": {},
   "outputs": [],
   "source": [
    "using System;\n",
    "using System.Collections.Generic;\n",
    "\n",
    "static long countTriplets(List<long> arr, long r)\n",
    "{\n",
    "    long count = 0;\n",
    "    long[] arrLong = arr.ToArray();\n",
    "    Dictionary<long, long> right = new Dictionary<long, long>();\n",
    "    Dictionary<long, long> left = new Dictionary<long, long>();\n",
    "    for (int i = 0; i < arrLong.Length; i++)\n",
    "    {\n",
    "        if (right.ContainsKey(arrLong[i]))\n",
    "            right[arrLong[i]]++;\n",
    "        else\n",
    "            right.Add(arrLong[i], 1);\n",
    "    }\n",
    "\n",
    "    for (int i = 0; i < arrLong.Length; i++)\n",
    "    {\n",
    "        long num2 = arrLong[i];\n",
    "        right[arrLong[i]]--;\n",
    "\n",
    "        if (arrLong[i] % r == 0)\n",
    "        {\n",
    "            long num1 = num2 / r;\n",
    "            long num3 = num2 * r;\n",
    "\n",
    "            if (left.ContainsKey(num1) && right.ContainsKey(num3))\n",
    "                count += left[num1] * right[num3];\n",
    "        }\n",
    "\n",
    "\n",
    "        if (left.ContainsKey(num2))\n",
    "            left[num2]++;\n",
    "        else\n",
    "            left.Add(num2, 1);\n",
    "    }\n",
    "\n",
    "    return count;\n",
    "}\n"
   ]
  },
  {
   "cell_type": "code",
   "execution_count": null,
   "metadata": {},
   "outputs": [],
   "source": [
    "List<long> list = \"1 2 2 4\".Split(\" \").Select(long.Parse).ToList();\n",
    "\n",
    "long result9 = countTriplets(list, 2);\n",
    "display(\"Reslut 9: \" + result9.ToString());"
   ]
  }
 ],
 "metadata": {
  "kernelspec": {
   "display_name": ".NET (C#)",
   "language": "C#",
   "name": ".net-csharp"
  },
  "language_info": {
   "file_extension": ".cs",
   "mimetype": "text/x-csharp",
   "name": "C#",
   "pygments_lexer": "csharp",
   "version": "8.0"
  }
 },
 "nbformat": 4,
 "nbformat_minor": 4
}
