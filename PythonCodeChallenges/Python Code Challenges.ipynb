{
 "cells": [
  {
   "cell_type": "markdown",
   "metadata": {},
   "source": [
    "## Coding Challenges in Python with a Test Driven Development (TDD) approach."
   ]
  },
  {
   "cell_type": "markdown",
   "metadata": {},
   "source": [
    "### Objective: Practive Python, algorithms and TDD to sharpen programming skills. "
   ]
  },
  {
   "cell_type": "markdown",
   "metadata": {},
   "source": [
    "#### Coding challenges sources are Hacker Rank, LeetCode, etc.\n"
   ]
  },
  {
   "cell_type": "markdown",
   "metadata": {},
   "source": [
    "1. Add Two Numbers (https://leetcode.com/problems/add-two-numbers/)\n",
    "\n",
    "    You are given two **non-empty** linked lists representing two non-negative integers. The digits are stored in **reverse order** and each of their nodes contain a single digit. Add the two numbers and return it as a linked list.\n",
    "\n",
    "    You may assume the two numbers do not contain any leading zero, except the number 0 itself.\n",
    "\n",
    "    Example:\n",
    "\n",
    "    Input: (2 -> 4 -> 3) + (5 -> 6 -> 4)\n",
    "    Output: 7 -> 0 -> 8\n",
    "    Explanation: 342 + 465 = 807."
   ]
  },
  {
   "cell_type": "code",
   "execution_count": 1,
   "metadata": {},
   "outputs": [
    {
     "data": {
      "text/plain": [
       "807"
      ]
     },
     "execution_count": 1,
     "metadata": {},
     "output_type": "execute_result"
    }
   ],
   "source": [
    "# Input: (2 -> 4 -> 3) + (5 -> 6 -> 4) Output: 7 -> 0 -> 8\n",
    "342 + 465"
   ]
  },
  {
   "cell_type": "code",
   "execution_count": 17,
   "metadata": {
    "scrolled": true
   },
   "outputs": [],
   "source": [
    "# Definition for singly-linked list.\n",
    "class ListNode(object):\n",
    "    def __init__(self, x):\n",
    "        self.val = x\n",
    "        self.next = None\n",
    "\n",
    "class Solution:\n",
    "    def addTwoNumbers(self, l1: ListNode, l2: ListNode,c = 0) -> ListNode:\n",
    "        val = l1[0].val \n",
    "        print(val)\n",
    "        return ListNode([0,2,2])\n",
    "    \n",
    "# # Python program to add two numbers represented by linked list \n",
    "\n",
    "# # Node class \n",
    "# class Node: \n",
    "\n",
    "# \t# Constructor to initialize the node object \n",
    "# \tdef __init__(self, data): \n",
    "# \t\tself.data = data \n",
    "# \t\tself.next = None\n",
    "\n",
    "# class LinkedList: \n",
    "\n",
    "# \t# Function to initialize head \n",
    "# \tdef __init__(self): \n",
    "# \t\tself.head = None\n",
    "\n",
    "# \t# Function to insert a new node at the beginning \n",
    "# \tdef push(self, new_data): \n",
    "# \t\tnew_node = Node(new_data) \n",
    "# \t\tnew_node.next = self.head \n",
    "# \t\tself.head = new_node \n",
    "\n",
    "# \t# Add contents of two linked lists and return the head \n",
    "# \t# node of resultant list \n",
    "# \tdef addTwoLists(self, first, second): \n",
    "# \t\tprev = None\n",
    "# \t\ttemp = None\n",
    "# \t\tcarry = 0\n",
    "\n",
    "# \t\t# While both list exists \n",
    "# \t\twhile(first is not None or second is not None): \n",
    "\n",
    "# \t\t\t# Calculate the value of next digit in \n",
    "# \t\t\t# resultant list \n",
    "# \t\t\t# The next digit is sum of following things \n",
    "# \t\t\t# (i) Carry \n",
    "# \t\t\t# (ii) Next digit of first list (if ther is a \n",
    "# \t\t\t# next digit) \n",
    "# \t\t\t# (iii) Next digit of second list ( if there \n",
    "# \t\t\t# is a next digit) \n",
    "# \t\t\tfdata = 0 if first is None else first.data \n",
    "# \t\t\tsdata = 0 if second is None else second.data \n",
    "# \t\t\tSum = carry + fdata + sdata \n",
    "\n",
    "# \t\t\t# update carry for next calculation \n",
    "# \t\t\tcarry = 1 if Sum >= 10 else 0\n",
    "\n",
    "# \t\t\t# update sum if it is greater than 10 \n",
    "# \t\t\tSum = Sum if Sum < 10 else Sum % 10\n",
    "\n",
    "# \t\t\t# Create a new node with sum as data \n",
    "# \t\t\ttemp = Node(Sum) \n",
    "\n",
    "# \t\t\t# if this is the first node then set it as head \n",
    "# \t\t\t# of resultant list \n",
    "# \t\t\tif self.head is None: \n",
    "# \t\t\t\tself.head = temp \n",
    "# \t\t\telse : \n",
    "# \t\t\t\tprev.next = temp \n",
    "\n",
    "# \t\t\t# Set prev for next insertion \n",
    "# \t\t\tprev = temp \n",
    "\n",
    "# \t\t\t# Move first and second pointers to next nodes \n",
    "# \t\t\tif first is not None: \n",
    "# \t\t\t\tfirst = first.next\n",
    "# \t\t\tif second is not None: \n",
    "# \t\t\t\tsecond = second.next\n",
    "\n",
    "# \t\tif carry > 0: \n",
    "# \t\t\ttemp.next = Node(carry) \n",
    "\n",
    "# \t# Utility function to print the linked LinkedList \n",
    "# \tdef printList(self): \n",
    "# \t\ttemp = self.head \n",
    "# \t\twhile(temp): \n",
    "# \t\t\tprint temp.data, \n",
    "# \t\t\ttemp = temp.next\n",
    "\n",
    "# # Driver program to test above function \n",
    "# first = LinkedList() \n",
    "# second = LinkedList() \n",
    "\n",
    "# # Create first list \n",
    "# first.push(6) \n",
    "# first.push(4) \n",
    "# first.push(9) \n",
    "# first.push(5) \n",
    "# first.push(7) \n",
    "# print \"First List is \", \n",
    "# first.printList() \n",
    "\n",
    "# # Create second list \n",
    "# second.push(4) \n",
    "# second.push(8) \n",
    "# print \"\\nSecond List is \", \n",
    "# second.printList() \n",
    "\n",
    "# # Add the two lists and see result \n",
    "# res = LinkedList() \n",
    "# res.addTwoLists(first.head, second.head) \n",
    "# print \"\\nResultant list is \", \n",
    "# res.printList() \n",
    "\n",
    "# # This code is contributed by Nikhil Kumar Singh(nickzuck_007) \n"
   ]
  },
  {
   "cell_type": "code",
   "execution_count": 18,
   "metadata": {},
   "outputs": [
    {
     "ename": "TypeError",
     "evalue": "'ListNode' object is not subscriptable",
     "output_type": "error",
     "traceback": [
      "\u001b[0;31m---------------------------------------------------------------------------\u001b[0m",
      "\u001b[0;31mTypeError\u001b[0m                                 Traceback (most recent call last)",
      "\u001b[0;32m<ipython-input-18-6ead3c53ffe2>\u001b[0m in \u001b[0;36m<module>\u001b[0;34m\u001b[0m\n\u001b[1;32m      4\u001b[0m \u001b[0mexpected\u001b[0m \u001b[0;34m=\u001b[0m \u001b[0mListNode\u001b[0m\u001b[0;34m(\u001b[0m\u001b[0;34m[\u001b[0m\u001b[0;36m1\u001b[0m\u001b[0;34m,\u001b[0m\u001b[0;36m3\u001b[0m\u001b[0;34m,\u001b[0m\u001b[0;36m3\u001b[0m\u001b[0;34m]\u001b[0m\u001b[0;34m)\u001b[0m \u001b[0;31m# Expected Value\u001b[0m\u001b[0;34m\u001b[0m\u001b[0;34m\u001b[0m\u001b[0m\n\u001b[1;32m      5\u001b[0m \u001b[0;34m\u001b[0m\u001b[0m\n\u001b[0;32m----> 6\u001b[0;31m \u001b[0mSolution\u001b[0m\u001b[0;34m(\u001b[0m\u001b[0;34m)\u001b[0m\u001b[0;34m.\u001b[0m\u001b[0maddTwoNumbers\u001b[0m\u001b[0;34m(\u001b[0m\u001b[0ml1\u001b[0m\u001b[0;34m,\u001b[0m\u001b[0ml2\u001b[0m\u001b[0;34m)\u001b[0m\u001b[0;34m.\u001b[0m\u001b[0mval\u001b[0m\u001b[0;34m\u001b[0m\u001b[0;34m\u001b[0m\u001b[0m\n\u001b[0m",
      "\u001b[0;32m<ipython-input-17-977e0a34e546>\u001b[0m in \u001b[0;36maddTwoNumbers\u001b[0;34m(self, l1, l2, c)\u001b[0m\n\u001b[1;32m      7\u001b[0m \u001b[0;32mclass\u001b[0m \u001b[0mSolution\u001b[0m\u001b[0;34m:\u001b[0m\u001b[0;34m\u001b[0m\u001b[0;34m\u001b[0m\u001b[0m\n\u001b[1;32m      8\u001b[0m     \u001b[0;32mdef\u001b[0m \u001b[0maddTwoNumbers\u001b[0m\u001b[0;34m(\u001b[0m\u001b[0mself\u001b[0m\u001b[0;34m,\u001b[0m \u001b[0ml1\u001b[0m\u001b[0;34m:\u001b[0m \u001b[0mListNode\u001b[0m\u001b[0;34m,\u001b[0m \u001b[0ml2\u001b[0m\u001b[0;34m:\u001b[0m \u001b[0mListNode\u001b[0m\u001b[0;34m,\u001b[0m\u001b[0mc\u001b[0m \u001b[0;34m=\u001b[0m \u001b[0;36m0\u001b[0m\u001b[0;34m)\u001b[0m \u001b[0;34m->\u001b[0m \u001b[0mListNode\u001b[0m\u001b[0;34m:\u001b[0m\u001b[0;34m\u001b[0m\u001b[0;34m\u001b[0m\u001b[0m\n\u001b[0;32m----> 9\u001b[0;31m         \u001b[0mval\u001b[0m \u001b[0;34m=\u001b[0m \u001b[0ml1\u001b[0m\u001b[0;34m[\u001b[0m\u001b[0;36m0\u001b[0m\u001b[0;34m]\u001b[0m\u001b[0;34m.\u001b[0m\u001b[0mval\u001b[0m\u001b[0;34m\u001b[0m\u001b[0;34m\u001b[0m\u001b[0m\n\u001b[0m\u001b[1;32m     10\u001b[0m         \u001b[0mprint\u001b[0m\u001b[0;34m(\u001b[0m\u001b[0mval\u001b[0m\u001b[0;34m)\u001b[0m\u001b[0;34m\u001b[0m\u001b[0;34m\u001b[0m\u001b[0m\n\u001b[1;32m     11\u001b[0m         \u001b[0;32mreturn\u001b[0m \u001b[0mListNode\u001b[0m\u001b[0;34m(\u001b[0m\u001b[0;34m[\u001b[0m\u001b[0;36m0\u001b[0m\u001b[0;34m,\u001b[0m\u001b[0;36m2\u001b[0m\u001b[0;34m,\u001b[0m\u001b[0;36m2\u001b[0m\u001b[0;34m]\u001b[0m\u001b[0;34m)\u001b[0m\u001b[0;34m\u001b[0m\u001b[0;34m\u001b[0m\u001b[0m\n",
      "\u001b[0;31mTypeError\u001b[0m: 'ListNode' object is not subscriptable"
     ]
    }
   ],
   "source": [
    "# Arrange\n",
    "l1= ListNode([0,2,2]) # Value 1\n",
    "l2= ListNode([1,1,1]) # Value 2\n",
    "expected = ListNode([1,3,3]) # Expected Value\n",
    "\n",
    "Solution().addTwoNumbers(l1,l2).val"
   ]
  },
  {
   "cell_type": "code",
   "execution_count": 3,
   "metadata": {},
   "outputs": [
    {
     "name": "stdout",
     "output_type": "stream",
     "text": [
      "[2, 4, 3]\n",
      "[2, 4, 3, 5, 6, 4]\n",
      "Output:[7, 0, 8]\n",
      "Expected:[7, 0, 8]\n",
      "Test Passed\n"
     ]
    }
   ],
   "source": [
    "# Arrange\n",
    "l1= ListNode([2,4,3]) # Value 1\n",
    "l2= ListNode([5,6,4]) # Value 2\n",
    "expected = ListNode([7,0,8]) # Expected Value\n",
    "\n",
    "# Act\n",
    "output = Solution().addTwoNumbers(l1,l2)\n",
    "\n",
    "# Assert\n",
    "print('Output:' + str(output.val))\n",
    "print('Expected:' + str(expected.val))\n",
    "\n",
    "\n",
    "if str(expected.val) == str(output.val):\n",
    "    print('Test Passed')\n",
    "else:\n",
    "    print('Test Fail')"
   ]
  },
  {
   "cell_type": "code",
   "execution_count": 4,
   "metadata": {},
   "outputs": [
    {
     "name": "stdout",
     "output_type": "stream",
     "text": [
      "[0, 1]\n",
      "[0, 1, 0, 1, 2]\n",
      "Output:[7, 0, 8]\n",
      "Expected:[0, 2, 2]\n",
      "Test Fail\n"
     ]
    }
   ],
   "source": [
    "# Arrange\n",
    "l1= ListNode([0,1]) # Value 1\n",
    "l2= ListNode([0,1,2]) # Value 2\n",
    "expected = ListNode([0,2,2]) # Expected Value\n",
    "\n",
    "# Act\n",
    "output = Solution().addTwoNumbers(l1,l2)\n",
    "\n",
    "# Assert\n",
    "print('Output:' + str(output.val))\n",
    "print('Expected:' + str(expected.val))\n",
    "\n",
    "\n",
    "if str(expected.val) == str(output.val):\n",
    "    print('Test Passed')\n",
    "else:\n",
    "    print('Test Fail')"
   ]
  },
  {
   "cell_type": "code",
   "execution_count": null,
   "metadata": {},
   "outputs": [],
   "source": []
  }
 ],
 "metadata": {
  "kernelspec": {
   "display_name": "Python 3",
   "language": "python",
   "name": "python3"
  },
  "language_info": {
   "codemirror_mode": {
    "name": "ipython",
    "version": 3
   },
   "file_extension": ".py",
   "mimetype": "text/x-python",
   "name": "python",
   "nbconvert_exporter": "python",
   "pygments_lexer": "ipython3",
   "version": "3.7.6"
  }
 },
 "nbformat": 4,
 "nbformat_minor": 4
}
